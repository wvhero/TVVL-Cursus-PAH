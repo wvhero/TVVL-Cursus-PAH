{
 "cells": [
  {
   "cell_type": "markdown",
   "metadata": {},
   "source": [
    "# TVVL Cursus | Intro Python | Deel 2\n",
    "Middels het gebruik van de Quandl API kan data van aandelen worden gebruikt om een aantal basisfunctionaliteiten van de Python Libary Pandas rondom Iime Series data toe te lichten."
   ]
  },
  {
   "cell_type": "markdown",
   "metadata": {},
   "source": [
    "## Python Libary Imports\n",
    "We beginnen met het importeren van de benodigde Python Libaries. Voor deze intro hebben we naast Pandas ook de Libary Quandl nodig. Deze Libary is door Quandl specifiek ontwikkeld om data vanuit de Quandl databases te downloaden middels Python. Meer informatie over het Quandl data platform is te vinden via https://www.quandl.com/. Meer informatie over de Quandl Python Libary functionaliteiten is te vinden via https://www.quandl.com/tools/python"
   ]
  },
  {
   "cell_type": "code",
   "execution_count": null,
   "metadata": {
    "code_folding": []
   },
   "outputs": [],
   "source": [
    "# Importeren Pandas Libary\n",
    "import quandl\n",
    "import pandas as pd"
   ]
  },
  {
   "cell_type": "markdown",
   "metadata": {},
   "source": [
    "## Lees data uit Quandl API en verken datasets\n",
    "Middels het gebruik van de '.get()' functionaliteiten kunnen we voor specifieke bedrijven informatie ophalen over de prijs van het aandeel. In dit voorbeeld gebruiken we data van het bedrijf Apple (stock_apple) en Microsoft (stock_ms)."
   ]
  },
  {
   "cell_type": "code",
   "execution_count": null,
   "metadata": {},
   "outputs": [],
   "source": [
    "stock_apple = quandl.get(\"WIKI/AAPL\")\n",
    "stock_ms = quandl.get(\"WIKI/MSFT\")"
   ]
  },
  {
   "cell_type": "markdown",
   "metadata": {},
   "source": [
    "Vervolgens controleren we de eigenschappen van de ingelezen data middels de 'info()' functionaliteit. Hierbij krijg je informatie over de hoeveelheid datapunten per kolom en de specieke datatypes die de dataset bevat."
   ]
  },
  {
   "cell_type": "code",
   "execution_count": null,
   "metadata": {},
   "outputs": [],
   "source": [
    "stock_apple.info()\n",
    "\n",
    "# Print een paar lege regels tussen de informatie\n",
    "print('-----\\n \\n \\n \\n-----')\n",
    "\n",
    "stock_ms.info()"
   ]
  },
  {
   "cell_type": "markdown",
   "metadata": {},
   "source": [
    "De ingelezen data is direct ingeladen in een pandas DataFrame. Elke kolom bevat het 'float64' datatype, wat betekend dat het nummers betreft. Om dit te controlleren bekijken we een stukje van beide datasets middels de 'head()' functie. Daarnaast is de index van de DataFrame een 'DatetimeIndex'. Dit betekend dat de dataset eenvoudig is te bewerken door gebruik te maken van datums."
   ]
  },
  {
   "cell_type": "code",
   "execution_count": null,
   "metadata": {
    "scrolled": true
   },
   "outputs": [],
   "source": [
    "stock_apple.head()"
   ]
  },
  {
   "cell_type": "code",
   "execution_count": null,
   "metadata": {},
   "outputs": [],
   "source": [
    "stock_ms.head()"
   ]
  },
  {
   "cell_type": "markdown",
   "metadata": {},
   "source": [
    "Beide datasets bevatten enkel getallen die informatie bevatten over de aandelen prijs. Middels de 'isnull()' functionaliteit controlleren we de kwaliteit van de data. Hieruit is te concluderen data beide datasets geen lege cellen of 'NaN' waardes bevatten."
   ]
  },
  {
   "cell_type": "code",
   "execution_count": null,
   "metadata": {
    "scrolled": true
   },
   "outputs": [],
   "source": [
    "stock_apple.isnull().sum()"
   ]
  },
  {
   "cell_type": "code",
   "execution_count": null,
   "metadata": {},
   "outputs": [],
   "source": [
    "stock_ms.isnull().sum()"
   ]
  },
  {
   "cell_type": "markdown",
   "metadata": {},
   "source": [
    "# Data bewerking\n",
    "Nu we weten met wat voor datasets we te maken hebben, kunnen we - afhankelijk van de analyse die we willen uitvoeren - beginnen met het bewerken van de data waarnodig. In deze tutorial willen we voor de periode tussen 2017 en 2018 willen we de 'Adj. Close' analyseren ten opzichten van elkaar. "
   ]
  },
  {
   "cell_type": "markdown",
   "metadata": {},
   "source": [
    "## Selecteren van time range\n",
    "Voor beide datasets willen we de data tussen 2017 en 2018 rondom de 'Adj. Close' hebben. Doordat de index van de DataFrame een 'DatetimeIndex' is, kunnen we eenvoudig de datasets filteren door gebruik te maken van datums. Eerst kijken we naar de data van 2017 in de 'Adj. Close' kolom. Door na de variable naam bijvoorbeeld ['2017'] toe te voegen, krijg je de data uit 2017 terug."
   ]
  },
  {
   "cell_type": "code",
   "execution_count": null,
   "metadata": {},
   "outputs": [],
   "source": [
    "stock_apple[\"2017\"][\"Adj. Close\"].plot()"
   ]
  },
  {
   "cell_type": "markdown",
   "metadata": {},
   "source": [
    "Om de data per maand te bekijken kan er bijvoorbeeld '2017-03' worden ingevuld."
   ]
  },
  {
   "cell_type": "code",
   "execution_count": null,
   "metadata": {},
   "outputs": [],
   "source": [
    "stock_ms[\"2017-03\"][\"Adj. Close\"].plot()"
   ]
  },
  {
   "cell_type": "markdown",
   "metadata": {},
   "source": [
    "Vervolgens willen we de data tussen 2017 en 2018 van de kolom 'Adj. Close' voor zowel de Apple als Microsoft dataset opslaan in een nieuwe variable. Hierbij maken we gebruik van de 'loc[]' functionaliteit om een specifieke time range te selecteren. Let op dat deze nieuwe variable niet direct een nieuw DataFrame oplevert. Zodoende moet de \"stock_ms.loc[]\" functionaliteit binnen de functie \"pd.DataFrame()\" functionaliteit worden geplaatst."
   ]
  },
  {
   "cell_type": "code",
   "execution_count": null,
   "metadata": {},
   "outputs": [],
   "source": [
    "price_17_18_ms = pd.DataFrame(stock_ms.loc[\"2017-01-01\":\"2018-12-31\"][\"Adj. Close\"])\n",
    "price_17_18_ms.plot()\n",
    "\n",
    "price_17_18_apple = pd.DataFrame(stock_apple.loc[\"2017-01-01\":\"2018-12-31\"][\"Adj. Close\"])\n",
    "price_17_18_apple.plot()"
   ]
  },
  {
   "cell_type": "markdown",
   "metadata": {},
   "source": [
    "## Samenvoegen en kolom namen wijzigen"
   ]
  },
  {
   "cell_type": "markdown",
   "metadata": {},
   "source": [
    "Nu we voor beide datasets de 'Adj. Close' data hebben opgeslagen in een nieuwe variable, kunnen we beide variable samenvoegen. Hierbij maken we gebruik van de 'join()' functionaliteit."
   ]
  },
  {
   "cell_type": "code",
   "execution_count": null,
   "metadata": {},
   "outputs": [],
   "source": [
    "price_17_18_ms.rename(columns={\"Adj. Close\":\"MSFT\"}, inplace=True)\n",
    "price_17_18_ms.head()"
   ]
  },
  {
   "cell_type": "code",
   "execution_count": null,
   "metadata": {},
   "outputs": [],
   "source": [
    "price_17_18_apple.rename(columns={\"Adj. Close\":\"AAPL\"}, inplace=True)\n",
    "price_17_18_apple.max()"
   ]
  },
  {
   "cell_type": "markdown",
   "metadata": {},
   "source": [
    "Vervolgens voegen we beide losse datasets samen in een DataFrame. Hierbij maken we gebruik van de 'join()' functionaliteit."
   ]
  },
  {
   "cell_type": "code",
   "execution_count": null,
   "metadata": {},
   "outputs": [],
   "source": [
    "both_stocks = price_17_18_apple.join(price_17_18_ms,how=\"inner\")\n",
    "both_stocks.head()"
   ]
  },
  {
   "cell_type": "markdown",
   "metadata": {},
   "source": [
    "# Time series analyse & resultaten\n",
    "\n",
    "Nu we de gewenste dataset hebben, kunnen we gaan analyseren."
   ]
  },
  {
   "cell_type": "markdown",
   "metadata": {},
   "source": [
    "## Wat eerste statistieken\n",
    "Vanuit de dataset die we nu hebben halen we eerst een aantal statestieken naar voren middels de 'describe()' functie."
   ]
  },
  {
   "cell_type": "code",
   "execution_count": null,
   "metadata": {},
   "outputs": [],
   "source": [
    "both_stocks.describe()"
   ]
  },
  {
   "cell_type": "markdown",
   "metadata": {},
   "source": [
    "Vervolgens kijken we middels een line plot naar de trend van de data in beide kolomen."
   ]
  },
  {
   "cell_type": "code",
   "execution_count": null,
   "metadata": {},
   "outputs": [],
   "source": [
    "both_stocks.plot()"
   ]
  },
  {
   "cell_type": "markdown",
   "metadata": {},
   "source": [
    "## Analyse van prijsontwikkeling"
   ]
  },
  {
   "cell_type": "markdown",
   "metadata": {},
   "source": [
    "Uit de bovenstaande plot kunnen we waarnemen dat de prijs van het Apple aandeel van ±120 naar ±180 is gegaan (toename van ±60). De prijs van het Microsoft aandeel is van ±60 naar ±90 gegaan (toename van ±30). Over de afgelopen 2 jaar is de stijging van het aandeel groter geweest bij Apple. Om deze stijging over deze periode exact te berekenen, kunnen we het verschil tussen elke dag uitrekenen middels de 'diff()' functie, om vervolgens de resultaten bij elkaar op te tellen middels 'sum()'."
   ]
  },
  {
   "cell_type": "code",
   "execution_count": null,
   "metadata": {},
   "outputs": [],
   "source": [
    "both_stocks.diff().sum()"
   ]
  },
  {
   "cell_type": "markdown",
   "metadata": {},
   "source": [
    "De schommelingen in prijs lijken bij Apple vele malen groten dan die bij Microsoft. Om dit inzichtelijk te krijgen kunnen we de standaarddeviatie uitrekenen over een bepaald interval. Door gebruik te maken van 'rolling()' functie in combinatie met 'std()' functie kan de standaarddeviatie bijvoorbeeld worden uitgerekend voor elke 20 handelsdagen ('window=20' = 20 handelsdagen), waarbij in een 'window' minimaal 10 dagen ('min_periods=10') zitten."
   ]
  },
  {
   "cell_type": "code",
   "execution_count": null,
   "metadata": {},
   "outputs": [],
   "source": [
    "both_stocks.rolling(min_periods=10,window=20,center=False).std().plot()"
   ]
  },
  {
   "cell_type": "markdown",
   "metadata": {},
   "source": [
    "De standaarddeviatie laat goed zien dat die voor het Apple aandeel aanmerkelijk hoger ligt. Door in plaats van 'std()' de 'mean()' functie te gebruiken krijgen we over elke 20 handelsdagen de gemiddelde prijs."
   ]
  },
  {
   "cell_type": "code",
   "execution_count": null,
   "metadata": {},
   "outputs": [],
   "source": [
    "both_stocks.rolling(min_periods=10,window=20,center=False).mean().plot()"
   ]
  },
  {
   "cell_type": "markdown",
   "metadata": {},
   "source": [
    "# Conclusie & aanbevelingen\n",
    "In deze sectie kunnen de conclusies uit de data analyse worden neergezet. In het kort kunnen we concluderen dat de prijs van een Apple aandeel harder is gestegen dan die van Microsoft tussen 2017 en 2018. Echter is de schommeling in de prijs bij het Apple aandeel wel groter."
   ]
  },
  {
   "cell_type": "code",
   "execution_count": null,
   "metadata": {},
   "outputs": [],
   "source": []
  }
 ],
 "metadata": {
  "kernelspec": {
   "display_name": "Python 3",
   "language": "python",
   "name": "python3"
  },
  "language_info": {
   "codemirror_mode": {
    "name": "ipython",
    "version": 3
   },
   "file_extension": ".py",
   "mimetype": "text/x-python",
   "name": "python",
   "nbconvert_exporter": "python",
   "pygments_lexer": "ipython3",
   "version": "3.6.4"
  },
  "toc": {
   "base_numbering": 1,
   "nav_menu": {},
   "number_sections": true,
   "sideBar": true,
   "skip_h1_title": false,
   "title_cell": "Table of Contents",
   "title_sidebar": "Contents",
   "toc_cell": false,
   "toc_position": {
    "height": "calc(100% - 180px)",
    "left": "10px",
    "top": "150px",
    "width": "360.977px"
   },
   "toc_section_display": true,
   "toc_window_display": true
  },
  "varInspector": {
   "cols": {
    "lenName": 16,
    "lenType": 16,
    "lenVar": 40
   },
   "kernels_config": {
    "python": {
     "delete_cmd_postfix": "",
     "delete_cmd_prefix": "del ",
     "library": "var_list.py",
     "varRefreshCmd": "print(var_dic_list())"
    },
    "r": {
     "delete_cmd_postfix": ") ",
     "delete_cmd_prefix": "rm(",
     "library": "var_list.r",
     "varRefreshCmd": "cat(var_dic_list()) "
    }
   },
   "oldHeight": 253.47699999999998,
   "position": {
    "height": "275.977px",
    "left": "1088.71px",
    "right": "20px",
    "top": "111.977px",
    "width": "530px"
   },
   "types_to_exclude": [
    "module",
    "function",
    "builtin_function_or_method",
    "instance",
    "_Feature"
   ],
   "varInspector_section_display": "block",
   "window_display": false
  }
 },
 "nbformat": 4,
 "nbformat_minor": 2
}
